{
 "cells": [
  {
   "cell_type": "code",
   "execution_count": 1,
   "id": "b742b37c",
   "metadata": {},
   "outputs": [
    {
     "name": "stdout",
     "output_type": "stream",
     "text": [
      "['Manila', '14.6', '120.9833', 'Manila', '23088000']\n",
      "['ï»¿1', 'MC/FXD', 'CALUMPIT', 'BULACAN']\n"
     ]
    }
   ],
   "source": [
    "import os\n",
    "import pathlib\n",
    "import csv\n",
    "import matplotlib.pyplot as plt\n",
    "import pandas as pd\n",
    "import numpy as np\n",
    "import seaborn as sns\n",
    "import folium\n",
    "\n",
    "os.chdir(\"C:/Users/Potato/Sync/TED\")\n",
    "         \n",
    "#open lists\n",
    "with open('ph2.csv', newline='') as f:\n",
    "    reader0 = csv.reader(f)\n",
    "    phdata = list(reader0)\n",
    "print(phdata[0])\n",
    "with open('rem1.csv', newline='') as f:\n",
    "    reader2 = csv.reader(f)\n",
    "    exdata = list(reader2)\n",
    "print(exdata[0])   "
   ]
  },
  {
   "cell_type": "code",
   "execution_count": 2,
   "id": "898ada73",
   "metadata": {},
   "outputs": [
    {
     "name": "stdout",
     "output_type": "stream",
     "text": [
      "['manila', '14.6', '120.9833', 'manila', '23088000']\n",
      "['ï»¿1', 'MC/FXD', 'calumpit', 'bulacan']\n"
     ]
    }
   ],
   "source": [
    "def ren(city):\n",
    "    city=city.replace('ã±','ñ')\n",
    "    city=city.replace('ã‘','ñ')\n",
    "    city=city.lower()\n",
    "    city=city.replace('city of ', '')\n",
    "    city=city.replace(' city', '')\n",
    "    city=city.split(' (')\n",
    "    city=city[0]\n",
    "    city=city.split('\\n')\n",
    "    city=city[0]\n",
    "    city=city.replace('ã‘','ñ')\n",
    "    city=city.replace('ã±','ñ')\n",
    "    city=city.replace('ermita', 'manila')\n",
    "    city=city.replace('binondo', 'manila')\n",
    "    city=city.replace('tondo i/ii', 'manila')\n",
    "    city=city.replace('malate', 'manila')\n",
    "    city=city.replace('ermita', 'manila')\n",
    "    city=city.replace('paco', 'manila')\n",
    "    city=city.replace('port area', 'manila')\n",
    "    city=city.replace('intramuros', 'manila')\n",
    "    city=city.replace('quiapo', 'manila')\n",
    "    city=city.replace('pandacan', 'manila')\n",
    "    city=city.replace('sampaloc', 'manila')\n",
    "    return city\n",
    "for i in range(len(phdata)):\n",
    "    phdata[i][0]=ren(phdata[i][0])\n",
    "    phdata[i][3]=ren(phdata[i][3])\n",
    "print(phdata[0])\n",
    "rem=[]\n",
    "for i in range(len(exdata)):\n",
    "    exdata[i][2]=ren(exdata[i][2])\n",
    "    exdata[i][3]=ren(exdata[i][3])\n",
    "for k in exdata:\n",
    "    if k[0]=='NO.':\n",
    "        exdata.pop(exdata.index(k))\n",
    "print(exdata[0])"
   ]
  },
  {
   "cell_type": "code",
   "execution_count": 3,
   "id": "3042cf8a",
   "metadata": {},
   "outputs": [],
   "source": [
    "mc=0\n",
    "exdl=len(exdata)\n",
    "notfound=[]\n",
    "clean=[]\n",
    "cleanarea=[]\n",
    "for i in range(len(exdata)):\n",
    "    found=0\n",
    "    for j in range(len(phdata)):\n",
    "        if exdata[i][2]==phdata[j][0]:\n",
    "            found=2\n",
    "    if found==0:\n",
    "        notfound.append(exdata[i][2])\n",
    "    if found!=0:\n",
    "        clean.append(exdata[i])\n",
    "        cleanarea.append(exdata[i][2])\n",
    "        mc=mc+1\n",
    "#print(exdl)\n",
    "#print(mc)"
   ]
  },
  {
   "cell_type": "code",
   "execution_count": 4,
   "id": "b04bf22b",
   "metadata": {
    "scrolled": true
   },
   "outputs": [
    {
     "data": {
      "text/plain": [
       "Counter({'sanchez-mira': 6,\n",
       "         'cauayan': 17,\n",
       "         'reina mercedes': 1,\n",
       "         'cajidiocan': 3,\n",
       "         'anini-y': 2,\n",
       "         'libertad': 1,\n",
       "         'mina': 1,\n",
       "         'belison': 1,\n",
       "         'bingawan': 1,\n",
       "         'laguindingan': 3,\n",
       "         'allen': 4,\n",
       "         'calbiga': 8,\n",
       "         'solsona': 1,\n",
       "         'lebak': 2,\n",
       "         'dapa': 4,\n",
       "         'tubigon': 6,\n",
       "         'burgos': 5,\n",
       "         'general macarthur': 1,\n",
       "         'marcos': 1,\n",
       "         \"brooke's point\": 3,\n",
       "         'marihatag': 1,\n",
       "         'antipas': 2,\n",
       "         'padada': 2,\n",
       "         'labo': 7,\n",
       "         'maigo': 2,\n",
       "         'pantukan': 4,\n",
       "         'sara': 4,\n",
       "         'liloan': 9,\n",
       "         'oroquieta': 9,\n",
       "         'baloi': 1,\n",
       "         'guihulngan': 6,\n",
       "         'cuyo': 1,\n",
       "         'bayambang': 8,\n",
       "         'gen. mariano alvarez': 14,\n",
       "         'tublay': 1,\n",
       "         'san jose del': 38,\n",
       "         'santa monica': 1,\n",
       "         'sto. tomas': 10,\n",
       "         'san benito': 2,\n",
       "         'paoay': 2,\n",
       "         'barcelona': 7,\n",
       "         'larena': 4,\n",
       "         'bataraza': 3,\n",
       "         'palo': 4,\n",
       "         'cordova': 5,\n",
       "         'laoac': 1,\n",
       "         'liliw': 3,\n",
       "         'bustos': 3,\n",
       "         'poro': 1,\n",
       "         'dumanjug': 2,\n",
       "         'claver': 3,\n",
       "         \"m'lang\": 3,\n",
       "         'pigkawayan': 3,\n",
       "         'maragusan': 2,\n",
       "         'island garden samal': 1,\n",
       "         'imelda': 1,\n",
       "         'paete': 3,\n",
       "         'bansud': 2,\n",
       "         'manukan': 2,\n",
       "         'linamon': 2,\n",
       "         'kananga': 1,\n",
       "         'mendez': 3,\n",
       "         'lumban': 2,\n",
       "         'maasim': 2,\n",
       "         'famy': 2,\n",
       "         'general luna': 2,\n",
       "         'san felipe': 2,\n",
       "         'balingoan': 1,\n",
       "         'datu odin sinsuat': 3,\n",
       "         'lambayong': 1,\n",
       "         'sinait': 3,\n",
       "         'ternate': 3,\n",
       "         'bagac': 2,\n",
       "         'magallanes': 1,\n",
       "         'unisan': 1,\n",
       "         'pinamungajan': 2,\n",
       "         'naawan': 1,\n",
       "         'labrador': 1,\n",
       "         'ronda': 1,\n",
       "         'altavas': 1,\n",
       "         'natividad': 1,\n",
       "         'caba': 1,\n",
       "         'sudipen': 1,\n",
       "         'tapaz': 2,\n",
       "         'lugait': 1,\n",
       "         'santa lucia': 1,\n",
       "         'dingalan': 1,\n",
       "         'pangantucan': 1,\n",
       "         'laua-an': 1,\n",
       "         'mainit': 2,\n",
       "         'malungon': 2,\n",
       "         'tubay': 1,\n",
       "         'cabucgayan': 1,\n",
       "         'la castellana': 1,\n",
       "         'tomas oppus': 1,\n",
       "         'madrid': 1,\n",
       "         \"t'boli\": 1,\n",
       "         'lakewood': 1,\n",
       "         'palanas': 1,\n",
       "         'piat': 2,\n",
       "         'san agustin': 1,\n",
       "         'binuangan': 1,\n",
       "         'quinapondan': 1,\n",
       "         'tukuran': 1,\n",
       "         'looc': 1,\n",
       "         'dumalneg': 1,\n",
       "         'tigbao': 1,\n",
       "         'sofronio española': 1,\n",
       "         'carrascal': 1,\n",
       "         'arakan': 1,\n",
       "         'lezo': 1,\n",
       "         'baroy': 1,\n",
       "         'jipapad': 1,\n",
       "         'magdiwang': 1,\n",
       "         'island garden of': 1,\n",
       "         'camalaniugan': 1,\n",
       "         'cabangan': 1,\n",
       "         'santa teresita': 2,\n",
       "         'alitagtag': 1})"
      ]
     },
     "execution_count": 4,
     "metadata": {},
     "output_type": "execute_result"
    }
   ],
   "source": [
    "from collections import Counter\n",
    "Counter(notfound)"
   ]
  },
  {
   "cell_type": "code",
   "execution_count": 5,
   "id": "c4c2f913",
   "metadata": {},
   "outputs": [],
   "source": [
    "cleancount=Counter(cleanarea)\n",
    "cleandict=dict(cleancount)\n",
    "cleankeys=list(cleandict.keys())\n",
    "cleanvalues=list(cleandict.values())"
   ]
  },
  {
   "cell_type": "code",
   "execution_count": 6,
   "id": "f9bc7d6d",
   "metadata": {},
   "outputs": [],
   "source": [
    "visdata=[]\n",
    "for i in range(len(cleankeys)):\n",
    "    cur=[]\n",
    "    cur.append(cleankeys[i])\n",
    "    cur.append(cleanvalues[i])\n",
    "    found=False\n",
    "    for j in range(len(phdata)):\n",
    "        if phdata[j][0]==cleankeys[i]:\n",
    "            found=True\n",
    "            cur=cur+phdata[j]\n",
    "    visdata.append(cur)\n",
    "#print(len(visdata))\n",
    "#print(visdata[0])"
   ]
  },
  {
   "cell_type": "code",
   "execution_count": 7,
   "id": "0ed5a31a",
   "metadata": {},
   "outputs": [
    {
     "name": "stdout",
     "output_type": "stream",
     "text": [
      "[7.0, 14.9167, 120.7667, 108757.0, 15536.714285714286]\n"
     ]
    }
   ],
   "source": [
    "vd=[]\n",
    "for v in visdata:\n",
    "    newv=[]\n",
    "    newv.append(float(v[1]))\n",
    "    newv.append(float(v[3]))\n",
    "    newv.append(float(v[4]))\n",
    "    newv.append(float(v[6]))\n",
    "    newv.append(int(v[6])/int(v[1]))\n",
    "    vd.append(newv)\n",
    "print(vd[0])\n",
    "df = pd.DataFrame(vd, columns = ['count', 'lat', 'long', 'pop', 'pop/ex'])\n",
    "df.to_csv('done1.csv', encoding='utf-8')"
   ]
  },
  {
   "cell_type": "code",
   "execution_count": 8,
   "id": "97f54370",
   "metadata": {},
   "outputs": [
    {
     "name": "stdout",
     "output_type": "stream",
     "text": [
      "   count      lat      long       pop        pop/ex\n",
      "0    7.0  14.9167  120.7667  108757.0  15536.714286\n",
      "1    6.0  14.8333  120.7333  129807.0  21634.500000\n",
      "2   11.0  14.8333  120.8833   99730.0   9066.363636\n",
      "3    3.0  14.7928  120.8789   76565.0  25521.666667\n",
      "4    4.0  14.8667  120.9500   89075.0  22268.750000\n",
      "66\n"
     ]
    }
   ],
   "source": [
    "print(df.head())\n",
    "\n",
    "counter=0\n",
    "#generate map with circles representing population\n",
    "map = folium.Map(location=[df['lat'].mean(), df['long'].mean()],\n",
    "                    zoom_start=5)\n",
    "for lat, long, pop, popex, count in zip(df['lat'], df['long'], df['pop'], df['pop/ex'], df['count']):\n",
    "    if count<=5 and ((pop<1000000 and pop>50000) and (popex>20401 and popex<33495)): #approximately 60-70 percentile, less than 1m pop, 1/2 exchanges\n",
    "        folium.CircleMarker(location=[lat, long],\n",
    "                                radius=popex/6000, \n",
    "                                color='#FF0000',\n",
    "                                fill_color='#FF0000',\n",
    "                                fill_opacity=0.7).add_to(map)\n",
    "        counter=counter+1\n",
    "#     else:\n",
    "#         folium.CircleMarker(location=[lat, long],\n",
    "#                                 radius=1, \n",
    "#                                 color='#3186cc',\n",
    "#                                 fill_color='#3186cc',\n",
    "#                                 fill_opacity=0.7).add_to(map)\n",
    "#save map\n",
    "map.save('map.html')\n",
    "print(counter)"
   ]
  },
  {
   "cell_type": "code",
   "execution_count": null,
   "id": "7367bf71",
   "metadata": {},
   "outputs": [],
   "source": []
  }
 ],
 "metadata": {
  "kernelspec": {
   "display_name": "Python 3 (ipykernel)",
   "language": "python",
   "name": "python3"
  },
  "language_info": {
   "codemirror_mode": {
    "name": "ipython",
    "version": 3
   },
   "file_extension": ".py",
   "mimetype": "text/x-python",
   "name": "python",
   "nbconvert_exporter": "python",
   "pygments_lexer": "ipython3",
   "version": "3.9.6"
  }
 },
 "nbformat": 4,
 "nbformat_minor": 5
}
